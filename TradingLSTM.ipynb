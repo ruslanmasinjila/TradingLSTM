{
 "cells": [
  {
   "cell_type": "code",
   "execution_count": 93,
   "id": "f923a29b",
   "metadata": {},
   "outputs": [],
   "source": [
    "##########################################################################################\n",
    "# TradingLSTM\n",
    "# AUTHOR: RUSLAN MASINJILA\n",
    "##########################################################################################\n",
    "import MetaTrader5 as mt5\n",
    "import pandas as pd\n",
    "import numpy as np\n",
    "from sklearn.preprocessing import MinMaxScaler\n",
    "from keras.models import Sequential\n",
    "from keras.layers import LSTM, Dense\n",
    "\n",
    "# NUMBER OF COLUMNS TO BE DISPLAYED\n",
    "pd.set_option('display.max_columns', 500)\n",
    "\n",
    "# MAXIMUM TABLE WIDTH TO DISPLAY\n",
    "pd.set_option('display.width', 1500)  \n",
    "\n",
    " \n",
    "# ESTABLISH CONNECTION TO MT5 TERMINAL\n",
    "if not mt5.initialize():\n",
    "    print(\"initialize() FAILED, ERROR CODE =\",mt5.last_error())\n",
    "    quit()"
   ]
  },
  {
   "cell_type": "code",
   "execution_count": 94,
   "id": "343d5b8f",
   "metadata": {},
   "outputs": [],
   "source": [
    "# MT5 TIMEFRAME\n",
    "MN1  = mt5.TIMEFRAME_MN1\n",
    "W1   = mt5.TIMEFRAME_W1\n",
    "D1   = mt5.TIMEFRAME_D1\n",
    "H12  = mt5.TIMEFRAME_H12\n",
    "H8   = mt5.TIMEFRAME_H8\n",
    "H6   = mt5.TIMEFRAME_H6\n",
    "H4   = mt5.TIMEFRAME_H4\n",
    "H3   = mt5.TIMEFRAME_H3\n",
    "H2   = mt5.TIMEFRAME_H2\n",
    "H1   = mt5.TIMEFRAME_H1\n",
    "M30  = mt5.TIMEFRAME_M30\n",
    "M20  = mt5.TIMEFRAME_M20\n",
    "M15  = mt5.TIMEFRAME_M15\n",
    "M12  = mt5.TIMEFRAME_M12\n",
    "M10  = mt5.TIMEFRAME_M10\n",
    "M6   = mt5.TIMEFRAME_M6\n",
    "M5   = mt5.TIMEFRAME_M5\n",
    "M4   = mt5.TIMEFRAME_M4\n",
    "M3   = mt5.TIMEFRAME_M3\n",
    "M2   = mt5.TIMEFRAME_M2\n",
    "M1   = mt5.TIMEFRAME_M1\n",
    "\n",
    "symbols = None\n",
    "with open('symbols.txt') as f:\n",
    "    symbols = [line.rstrip('\\n') for line in f]\n",
    "\n",
    "##########################################################################################"
   ]
  },
  {
   "cell_type": "code",
   "execution_count": 95,
   "id": "1b3c98ad",
   "metadata": {},
   "outputs": [],
   "source": [
    "def getRates(symbol, mt5Timeframe,offset, numCandles):\n",
    "    rates_frame =  mt5.copy_rates_from_pos(symbol, mt5Timeframe, offset, numCandles)\n",
    "    rates_frame = pd.DataFrame(rates_frame)\n",
    "    return rates_frame\n",
    "\n",
    "##########################################################################################"
   ]
  },
  {
   "cell_type": "code",
   "execution_count": 96,
   "id": "97658cd8",
   "metadata": {},
   "outputs": [],
   "source": [
    "numCandles     = 10000\n",
    "offset         = 100\n",
    "symbol = \"EURUSD\"\n",
    "mt5Timeframe = H1\n",
    "rates_frame =  getRates(symbol, mt5Timeframe, offset, numCandles)"
   ]
  },
  {
   "cell_type": "code",
   "execution_count": 97,
   "id": "c74f2267",
   "metadata": {},
   "outputs": [],
   "source": [
    "rates_frame = rates_frame[[\"open\",\"high\",\"low\",\"close\",\"tick_volume\"]]"
   ]
  },
  {
   "cell_type": "code",
   "execution_count": 98,
   "id": "e9ccdfc8",
   "metadata": {},
   "outputs": [
    {
     "name": "stdout",
     "output_type": "stream",
     "text": [
      "Epoch 1/5\n",
      "248/248 [==============================] - 19s 61ms/step - loss: 0.0142\n",
      "Epoch 2/5\n",
      "248/248 [==============================] - 15s 62ms/step - loss: 5.4173e-04\n",
      "Epoch 3/5\n",
      "248/248 [==============================] - 15s 62ms/step - loss: 5.0837e-04\n",
      "Epoch 4/5\n",
      "248/248 [==============================] - 15s 62ms/step - loss: 4.7653e-04\n",
      "Epoch 5/5\n",
      "248/248 [==============================] - 15s 62ms/step - loss: 4.9087e-04\n",
      "Model: \"sequential_6\"\n",
      "_________________________________________________________________\n",
      " Layer (type)                Output Shape              Param #   \n",
      "=================================================================\n",
      " lstm_12 (LSTM)              (None, 100, 50)           10400     \n",
      "                                                                 \n",
      " lstm_13 (LSTM)              (None, 50)                20200     \n",
      "                                                                 \n",
      " dense_6 (Dense)             (None, 10)                510       \n",
      "                                                                 \n",
      "=================================================================\n",
      "Total params: 31,110\n",
      "Trainable params: 31,110\n",
      "Non-trainable params: 0\n",
      "_________________________________________________________________\n",
      "None\n",
      "Train Loss: 0.00046417248086072505\n",
      "Test Loss: 0.0003651998413261026\n"
     ]
    }
   ],
   "source": [
    "import numpy as np\n",
    "import pandas as pd\n",
    "from sklearn.preprocessing import MinMaxScaler\n",
    "from keras.models import Sequential\n",
    "from keras.layers import LSTM, Dense\n",
    "\n",
    "# Load the dataframe\n",
    "# Assuming you have already loaded the dataframe named 'rates_frame'\n",
    "\n",
    "# Extract the 'close' column\n",
    "close_data = rates_frame['close'].values.reshape(-1, 1)\n",
    "\n",
    "# Normalize the data\n",
    "scaler = MinMaxScaler(feature_range=(0, 1))\n",
    "scaled_data = scaler.fit_transform(close_data)\n",
    "\n",
    "# Prepare the data for LSTM\n",
    "window_size = 100  # Number of rows to use as input\n",
    "X, y = [], []\n",
    "for i in range(len(scaled_data) - window_size - 10):  # Modified to account for 10 output values\n",
    "    window = scaled_data[i:(i + window_size), 0]\n",
    "    X.append(window)\n",
    "    y.append(scaled_data[(i + window_size):(i + window_size + 10), 0])  # Modified to include 10 output values\n",
    "X, y = np.array(X), np.array(y)\n",
    "\n",
    "# Split the data into training and testing sets\n",
    "train_size = int(len(X) * 0.8)\n",
    "X_train, X_test = X[:train_size], X[train_size:]\n",
    "y_train, y_test = y[:train_size], y[train_size:]\n",
    "\n",
    "# Reshape the input data for LSTM [samples, time steps, features]\n",
    "X_train = np.reshape(X_train, (X_train.shape[0], X_train.shape[1], 1))\n",
    "X_test = np.reshape(X_test, (X_test.shape[0], X_test.shape[1], 1))\n",
    "\n",
    "# Build the LSTM model\n",
    "model = Sequential()\n",
    "model.add(LSTM(units=50, return_sequences=True, input_shape=(window_size, 1)))\n",
    "model.add(LSTM(units=50))\n",
    "model.add(Dense(units=10))  # Modified to output 10 values\n",
    "model.compile(optimizer='adam', loss='mean_squared_error')\n",
    "\n",
    "# Train the model\n",
    "model.fit(X_train, y_train, epochs=5, batch_size=32)\n",
    "\n",
    "# Evaluate the model\n",
    "train_loss = model.evaluate(X_train, y_train, verbose=0)\n",
    "test_loss = model.evaluate(X_test, y_test, verbose=0)\n",
    "\n",
    "# Print the model summary and evaluation results\n",
    "print(model.summary())\n",
    "print('Train Loss:', train_loss)\n",
    "print('Test Loss:', test_loss)"
   ]
  },
  {
   "cell_type": "code",
   "execution_count": 107,
   "id": "c535efc8",
   "metadata": {},
   "outputs": [],
   "source": [
    "numCandles     = 100\n",
    "offset         = 1\n",
    "symbol = \"EURUSD\"\n",
    "mt5Timeframe = H1\n",
    "rates_frame =  getRates(symbol, mt5Timeframe, offset, numCandles)"
   ]
  },
  {
   "cell_type": "code",
   "execution_count": 108,
   "id": "3a500c5f",
   "metadata": {},
   "outputs": [
    {
     "name": "stdout",
     "output_type": "stream",
     "text": [
      "1/1 [==============================] - 0s 23ms/step\n",
      "Predicted Close Values: [1.0874397 1.0868405 1.0872415 1.0865692 1.0870227 1.08625   1.0869498\n",
      " 1.0870771 1.0864547 1.0859797]\n"
     ]
    }
   ],
   "source": [
    "# Assuming you have loaded the new 100 rows of data into a dataframe called 'new_data_frame'\n",
    "\n",
    "# Extract the 'close' column from the new data\n",
    "new_close_data = rates_frame['close'].values.reshape(-1, 1)\n",
    "\n",
    "# Normalize the new data using the same scaler used during training\n",
    "scaled_new_data = scaler.transform(new_close_data)\n",
    "\n",
    "# Prepare the input sequence for prediction\n",
    "new_input_sequence = scaled_new_data[-window_size:, 0]  # Take the last 100 rows as input\n",
    "\n",
    "# Reshape the input sequence for prediction\n",
    "new_input_sequence = new_input_sequence.reshape(1, window_size, 1)\n",
    "\n",
    "# Make predictions\n",
    "predicted_sequence = model.predict(new_input_sequence)\n",
    "\n",
    "# Rescale the predictions back to the original scale\n",
    "predicted_sequence = scaler.inverse_transform(predicted_sequence)\n",
    "\n",
    "# Extract the next 10 closing price values from the predicted sequence\n",
    "predicted_close_values = predicted_sequence[0]\n",
    "\n",
    "# Print the predicted close values\n",
    "print('Predicted Close Values:', predicted_close_values)\n"
   ]
  },
  {
   "cell_type": "code",
   "execution_count": 101,
   "id": "eac6d83d",
   "metadata": {},
   "outputs": [
    {
     "data": {
      "text/plain": [
       "array([1.0867814, 1.0862687, 1.0865885, 1.0859271, 1.0864767, 1.0856833,\n",
       "       1.0863069, 1.0865066, 1.0858742, 1.0854278], dtype=float32)"
      ]
     },
     "execution_count": 101,
     "metadata": {},
     "output_type": "execute_result"
    }
   ],
   "source": [
    "predicted_close_values"
   ]
  },
  {
   "cell_type": "code",
   "execution_count": null,
   "id": "2859ee3b",
   "metadata": {},
   "outputs": [],
   "source": []
  }
 ],
 "metadata": {
  "kernelspec": {
   "display_name": "Python 3 (ipykernel)",
   "language": "python",
   "name": "python3"
  },
  "language_info": {
   "codemirror_mode": {
    "name": "ipython",
    "version": 3
   },
   "file_extension": ".py",
   "mimetype": "text/x-python",
   "name": "python",
   "nbconvert_exporter": "python",
   "pygments_lexer": "ipython3",
   "version": "3.9.13"
  }
 },
 "nbformat": 4,
 "nbformat_minor": 5
}
